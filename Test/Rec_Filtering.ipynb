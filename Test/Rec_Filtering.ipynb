{
 "cells": [
  {
   "cell_type": "code",
   "execution_count": 1,
   "metadata": {},
   "outputs": [],
   "source": [
    "import pandas as pd\n",
    "import numpy as np"
   ]
  },
  {
   "cell_type": "code",
   "execution_count": 2,
   "metadata": {},
   "outputs": [
    {
     "data": {
      "text/plain": [
       "'d:\\\\When-Hybrid-meets-the-Prompt'"
      ]
     },
     "execution_count": 2,
     "metadata": {},
     "output_type": "execute_result"
    }
   ],
   "source": [
    "import os\n",
    "parent_directory = os.path.dirname(os.getcwd())\n",
    "os.chdir(parent_directory)\n",
    "os.getcwd()"
   ]
  },
  {
   "cell_type": "code",
   "execution_count": 3,
   "metadata": {},
   "outputs": [],
   "source": [
    "\n",
    "# # Get the absolute path of your project directory\n",
    "# project_dir = os.path.abspath(os.path.join(os.getcwd(), '..', 'Model','Hybrid'))\n",
    "\n",
    "# # Add the project directory to sys.path\n",
    "# sys.path.append('')\n",
    "from Model.Hybrid.Rec_Filtering import RecommenderFiltering\n",
    "# from Rec_Filtering import RecommenderFiltering"
   ]
  },
  {
   "cell_type": "code",
   "execution_count": 5,
   "metadata": {},
   "outputs": [],
   "source": [
    "df_courses = pd.read_csv(\"Data/courses.csv\", index_col=0)"
   ]
  },
  {
   "cell_type": "code",
   "execution_count": 6,
   "metadata": {},
   "outputs": [
    {
     "data": {
      "text/html": [
       "<div>\n",
       "<style scoped>\n",
       "    .dataframe tbody tr th:only-of-type {\n",
       "        vertical-align: middle;\n",
       "    }\n",
       "\n",
       "    .dataframe tbody tr th {\n",
       "        vertical-align: top;\n",
       "    }\n",
       "\n",
       "    .dataframe thead th {\n",
       "        text-align: right;\n",
       "    }\n",
       "</style>\n",
       "<table border=\"1\" class=\"dataframe\">\n",
       "  <thead>\n",
       "    <tr style=\"text-align: right;\">\n",
       "      <th></th>\n",
       "      <th>item_id</th>\n",
       "      <th>item_name</th>\n",
       "      <th>item_avg_rating</th>\n",
       "      <th>item_category</th>\n",
       "      <th>item_subcategory</th>\n",
       "      <th>item_members</th>\n",
       "      <th>item_description</th>\n",
       "    </tr>\n",
       "  </thead>\n",
       "  <tbody>\n",
       "    <tr>\n",
       "      <th>0</th>\n",
       "      <td>473160</td>\n",
       "      <td>Web Design for Web Developers: Build Beautiful...</td>\n",
       "      <td>4.466391</td>\n",
       "      <td>Development</td>\n",
       "      <td>Web Development</td>\n",
       "      <td>681494.0</td>\n",
       "      <td>IMPORTANT NOTE: The material of this course is...</td>\n",
       "    </tr>\n",
       "    <tr>\n",
       "      <th>1</th>\n",
       "      <td>433798</td>\n",
       "      <td>Introduction To Python Programming</td>\n",
       "      <td>4.408828</td>\n",
       "      <td>Development</td>\n",
       "      <td>Programming Languages</td>\n",
       "      <td>885914.0</td>\n",
       "      <td>Are you interested in becoming a programmer? P...</td>\n",
       "    </tr>\n",
       "    <tr>\n",
       "      <th>2</th>\n",
       "      <td>5340996</td>\n",
       "      <td>Python Interview Preparation Coding Exercises</td>\n",
       "      <td>3.596154</td>\n",
       "      <td>Development</td>\n",
       "      <td>Programming Languages</td>\n",
       "      <td>11357.0</td>\n",
       "      <td>Level Up Your Python Skills for Coding Intervi...</td>\n",
       "    </tr>\n",
       "    <tr>\n",
       "      <th>3</th>\n",
       "      <td>53600</td>\n",
       "      <td>Useful Excel for Beginners</td>\n",
       "      <td>4.512998</td>\n",
       "      <td>Office Productivity</td>\n",
       "      <td>Microsoft</td>\n",
       "      <td>603913.0</td>\n",
       "      <td>\\t    Welcome to the Useful Excel for Beginn...</td>\n",
       "    </tr>\n",
       "    <tr>\n",
       "      <th>4</th>\n",
       "      <td>24823</td>\n",
       "      <td>Java Tutorial for Complete Beginners</td>\n",
       "      <td>4.374596</td>\n",
       "      <td>Development</td>\n",
       "      <td>Programming Languages</td>\n",
       "      <td>1840631.0</td>\n",
       "      <td>\\t        Learn to program in the Java progr...</td>\n",
       "    </tr>\n",
       "  </tbody>\n",
       "</table>\n",
       "</div>"
      ],
      "text/plain": [
       "   item_id                                          item_name  \\\n",
       "0   473160  Web Design for Web Developers: Build Beautiful...   \n",
       "1   433798                 Introduction To Python Programming   \n",
       "2  5340996      Python Interview Preparation Coding Exercises   \n",
       "3    53600                         Useful Excel for Beginners   \n",
       "4    24823               Java Tutorial for Complete Beginners   \n",
       "\n",
       "   item_avg_rating        item_category       item_subcategory  item_members  \\\n",
       "0         4.466391          Development        Web Development      681494.0   \n",
       "1         4.408828          Development  Programming Languages      885914.0   \n",
       "2         3.596154          Development  Programming Languages       11357.0   \n",
       "3         4.512998  Office Productivity              Microsoft      603913.0   \n",
       "4         4.374596          Development  Programming Languages     1840631.0   \n",
       "\n",
       "                                    item_description  \n",
       "0  IMPORTANT NOTE: The material of this course is...  \n",
       "1  Are you interested in becoming a programmer? P...  \n",
       "2  Level Up Your Python Skills for Coding Intervi...  \n",
       "3    \\t    Welcome to the Useful Excel for Beginn...  \n",
       "4    \\t        Learn to program in the Java progr...  "
      ]
     },
     "execution_count": 6,
     "metadata": {},
     "output_type": "execute_result"
    }
   ],
   "source": [
    "df_courses.head()"
   ]
  },
  {
   "cell_type": "markdown",
   "metadata": {},
   "source": [
    "# Key word search recommender module to filter products by keywords"
   ]
  },
  {
   "cell_type": "code",
   "execution_count": 7,
   "metadata": {},
   "outputs": [
    {
     "name": "stderr",
     "output_type": "stream",
     "text": [
      "2023-09-12 23:48:49.560 \n",
      "  \u001b[33m\u001b[1mWarning:\u001b[0m to view this Streamlit app on a browser, run it with the following\n",
      "  command:\n",
      "\n",
      "    streamlit run C:\\Users\\defaultuser0.LAPTOP-POTNR7PE\\AppData\\Roaming\\Python\\Python311\\site-packages\\ipykernel_launcher.py [ARGUMENTS]\n"
     ]
    },
    {
     "data": {
      "text/html": [
       "<div>\n",
       "<style scoped>\n",
       "    .dataframe tbody tr th:only-of-type {\n",
       "        vertical-align: middle;\n",
       "    }\n",
       "\n",
       "    .dataframe tbody tr th {\n",
       "        vertical-align: top;\n",
       "    }\n",
       "\n",
       "    .dataframe thead th {\n",
       "        text-align: right;\n",
       "    }\n",
       "</style>\n",
       "<table border=\"1\" class=\"dataframe\">\n",
       "  <thead>\n",
       "    <tr style=\"text-align: right;\">\n",
       "      <th></th>\n",
       "      <th>item_id</th>\n",
       "      <th>item_name</th>\n",
       "      <th>item_avg_rating</th>\n",
       "      <th>item_category</th>\n",
       "      <th>item_subcategory</th>\n",
       "      <th>item_members</th>\n",
       "      <th>item_description</th>\n",
       "    </tr>\n",
       "  </thead>\n",
       "  <tbody>\n",
       "    <tr>\n",
       "      <th>4</th>\n",
       "      <td>24823</td>\n",
       "      <td>Java Tutorial for Complete Beginners</td>\n",
       "      <td>4.374596</td>\n",
       "      <td>Development</td>\n",
       "      <td>Programming Languages</td>\n",
       "      <td>1840631.0</td>\n",
       "      <td>\\t        Learn to program in the Java progr...</td>\n",
       "    </tr>\n",
       "    <tr>\n",
       "      <th>7007</th>\n",
       "      <td>543600</td>\n",
       "      <td>Automate the Boring Stuff with Python Programming</td>\n",
       "      <td>4.603346</td>\n",
       "      <td>Development</td>\n",
       "      <td>Programming Languages</td>\n",
       "      <td>1097988.0</td>\n",
       "      <td>If you're an office worker, student, administr...</td>\n",
       "    </tr>\n",
       "    <tr>\n",
       "      <th>1</th>\n",
       "      <td>433798</td>\n",
       "      <td>Introduction To Python Programming</td>\n",
       "      <td>4.408828</td>\n",
       "      <td>Development</td>\n",
       "      <td>Programming Languages</td>\n",
       "      <td>885914.0</td>\n",
       "      <td>Are you interested in becoming a programmer? P...</td>\n",
       "    </tr>\n",
       "  </tbody>\n",
       "</table>\n",
       "</div>"
      ],
      "text/plain": [
       "      item_id                                          item_name  \\\n",
       "4       24823               Java Tutorial for Complete Beginners   \n",
       "7007   543600  Automate the Boring Stuff with Python Programming   \n",
       "1      433798                 Introduction To Python Programming   \n",
       "\n",
       "      item_avg_rating item_category       item_subcategory  item_members  \\\n",
       "4            4.374596   Development  Programming Languages     1840631.0   \n",
       "7007         4.603346   Development  Programming Languages     1097988.0   \n",
       "1            4.408828   Development  Programming Languages      885914.0   \n",
       "\n",
       "                                       item_description  \n",
       "4       \\t        Learn to program in the Java progr...  \n",
       "7007  If you're an office worker, student, administr...  \n",
       "1     Are you interested in becoming a programmer? P...  "
      ]
     },
     "execution_count": 7,
     "metadata": {},
     "output_type": "execute_result"
    }
   ],
   "source": [
    "kw = RecommenderFiltering(top_k=3, \n",
    "                          sort_by_mem=True,\n",
    "                          df=df_courses, \n",
    "                          sort_order=False)\n",
    "kw.return_recommend()\n",
    "kw.rec_rs"
   ]
  },
  {
   "cell_type": "code",
   "execution_count": 8,
   "metadata": {},
   "outputs": [
    {
     "name": "stdout",
     "output_type": "stream",
     "text": [
      "---------------------\n",
      "No matching products found for dfdf\n",
      "      item_id                                          item_name  \\\n",
      "4       24823               Java Tutorial for Complete Beginners   \n",
      "7007   543600  Automate the Boring Stuff with Python Programming   \n",
      "1      433798                 Introduction To Python Programming   \n",
      "\n",
      "      item_avg_rating item_category       item_subcategory  item_members  \\\n",
      "4            4.374596   Development  Programming Languages     1840631.0   \n",
      "7007         4.603346   Development  Programming Languages     1097988.0   \n",
      "1            4.408828   Development  Programming Languages      885914.0   \n",
      "\n",
      "                                       item_description  \n",
      "4       \\t        Learn to program in the Java progr...  \n",
      "7007  If you're an office worker, student, administr...  \n",
      "1     Are you interested in becoming a programmer? P...  \n",
      "3\n"
     ]
    }
   ],
   "source": [
    "\n",
    "print(\"---------------------\")\n",
    "kw.keyword_search(item_categories=\"dfdf\")\n",
    "test = kw.rec_rs\n",
    "print(test)\n",
    "print(len(test))"
   ]
  },
  {
   "cell_type": "code",
   "execution_count": 9,
   "metadata": {},
   "outputs": [
    {
     "name": "stdout",
     "output_type": "stream",
     "text": [
      "---------------------\n",
      "No matching products found for fdfdsfdfsd\n",
      "      item_id                                          item_name  \\\n",
      "4       24823               Java Tutorial for Complete Beginners   \n",
      "7007   543600  Automate the Boring Stuff with Python Programming   \n",
      "1      433798                 Introduction To Python Programming   \n",
      "\n",
      "      item_avg_rating item_category       item_subcategory  item_members  \\\n",
      "4            4.374596   Development  Programming Languages     1840631.0   \n",
      "7007         4.603346   Development  Programming Languages     1097988.0   \n",
      "1            4.408828   Development  Programming Languages      885914.0   \n",
      "\n",
      "                                       item_description  \n",
      "4       \\t        Learn to program in the Java progr...  \n",
      "7007  If you're an office worker, student, administr...  \n",
      "1     Are you interested in becoming a programmer? P...  \n"
     ]
    }
   ],
   "source": [
    "print(\"---------------------\")\n",
    "kw.keyword_search(item_title=\"fdfdsfdfsd\")\n",
    "test = kw.rec_rs\n",
    "print(test)"
   ]
  }
 ],
 "metadata": {
  "kernelspec": {
   "display_name": "Python 3",
   "language": "python",
   "name": "python3"
  },
  "language_info": {
   "codemirror_mode": {
    "name": "ipython",
    "version": 3
   },
   "file_extension": ".py",
   "mimetype": "text/x-python",
   "name": "python",
   "nbconvert_exporter": "python",
   "pygments_lexer": "ipython3",
   "version": "3.11.2"
  },
  "orig_nbformat": 4
 },
 "nbformat": 4,
 "nbformat_minor": 2
}
