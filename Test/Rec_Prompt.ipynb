{
 "cells": [
  {
   "cell_type": "code",
   "execution_count": 1,
   "metadata": {},
   "outputs": [],
   "source": [
    "import pandas as pd\n",
    "import numpy as np\n",
    "import joblib"
   ]
  },
  {
   "cell_type": "code",
   "execution_count": 2,
   "metadata": {},
   "outputs": [
    {
     "data": {
      "text/plain": [
       "'d:\\\\When-Hybrid-meets-the-Prompt'"
      ]
     },
     "execution_count": 2,
     "metadata": {},
     "output_type": "execute_result"
    }
   ],
   "source": [
    "import os\n",
    "parent_directory = os.path.dirname(os.getcwd())\n",
    "os.chdir(parent_directory)\n",
    "os.getcwd()"
   ]
  },
  {
   "cell_type": "code",
   "execution_count": 3,
   "metadata": {},
   "outputs": [],
   "source": [
    "from Model.Prompt import prompt"
   ]
  },
  {
   "cell_type": "code",
   "execution_count": 4,
   "metadata": {},
   "outputs": [
    {
     "data": {
      "text/html": [
       "<div>\n",
       "<style scoped>\n",
       "    .dataframe tbody tr th:only-of-type {\n",
       "        vertical-align: middle;\n",
       "    }\n",
       "\n",
       "    .dataframe tbody tr th {\n",
       "        vertical-align: top;\n",
       "    }\n",
       "\n",
       "    .dataframe thead th {\n",
       "        text-align: right;\n",
       "    }\n",
       "</style>\n",
       "<table border=\"1\" class=\"dataframe\">\n",
       "  <thead>\n",
       "    <tr style=\"text-align: right;\">\n",
       "      <th></th>\n",
       "      <th>item_id</th>\n",
       "      <th>item_name</th>\n",
       "      <th>item_avg_rating</th>\n",
       "      <th>item_category</th>\n",
       "      <th>item_subcategory</th>\n",
       "      <th>item_members</th>\n",
       "      <th>item_description</th>\n",
       "    </tr>\n",
       "  </thead>\n",
       "  <tbody>\n",
       "    <tr>\n",
       "      <th>0</th>\n",
       "      <td>473160</td>\n",
       "      <td>Web Design for Web Developers: Build Beautiful...</td>\n",
       "      <td>4.466391</td>\n",
       "      <td>Development</td>\n",
       "      <td>Web Development</td>\n",
       "      <td>681494.0</td>\n",
       "      <td>IMPORTANT NOTE: The material of this course is...</td>\n",
       "    </tr>\n",
       "    <tr>\n",
       "      <th>1</th>\n",
       "      <td>433798</td>\n",
       "      <td>Introduction To Python Programming</td>\n",
       "      <td>4.408828</td>\n",
       "      <td>Development</td>\n",
       "      <td>Programming Languages</td>\n",
       "      <td>885914.0</td>\n",
       "      <td>Are you interested in becoming a programmer? P...</td>\n",
       "    </tr>\n",
       "    <tr>\n",
       "      <th>2</th>\n",
       "      <td>5340996</td>\n",
       "      <td>Python Interview Preparation Coding Exercises</td>\n",
       "      <td>3.596154</td>\n",
       "      <td>Development</td>\n",
       "      <td>Programming Languages</td>\n",
       "      <td>11357.0</td>\n",
       "      <td>Level Up Your Python Skills for Coding Intervi...</td>\n",
       "    </tr>\n",
       "    <tr>\n",
       "      <th>3</th>\n",
       "      <td>53600</td>\n",
       "      <td>Useful Excel for Beginners</td>\n",
       "      <td>4.512998</td>\n",
       "      <td>Office Productivity</td>\n",
       "      <td>Microsoft</td>\n",
       "      <td>603913.0</td>\n",
       "      <td>\\t    Welcome to the Useful Excel for Beginn...</td>\n",
       "    </tr>\n",
       "    <tr>\n",
       "      <th>4</th>\n",
       "      <td>24823</td>\n",
       "      <td>Java Tutorial for Complete Beginners</td>\n",
       "      <td>4.374596</td>\n",
       "      <td>Development</td>\n",
       "      <td>Programming Languages</td>\n",
       "      <td>1840631.0</td>\n",
       "      <td>\\t        Learn to program in the Java progr...</td>\n",
       "    </tr>\n",
       "  </tbody>\n",
       "</table>\n",
       "</div>"
      ],
      "text/plain": [
       "   item_id                                          item_name  \\\n",
       "0   473160  Web Design for Web Developers: Build Beautiful...   \n",
       "1   433798                 Introduction To Python Programming   \n",
       "2  5340996      Python Interview Preparation Coding Exercises   \n",
       "3    53600                         Useful Excel for Beginners   \n",
       "4    24823               Java Tutorial for Complete Beginners   \n",
       "\n",
       "   item_avg_rating        item_category       item_subcategory  item_members  \\\n",
       "0         4.466391          Development        Web Development      681494.0   \n",
       "1         4.408828          Development  Programming Languages      885914.0   \n",
       "2         3.596154          Development  Programming Languages       11357.0   \n",
       "3         4.512998  Office Productivity              Microsoft      603913.0   \n",
       "4         4.374596          Development  Programming Languages     1840631.0   \n",
       "\n",
       "                                    item_description  \n",
       "0  IMPORTANT NOTE: The material of this course is...  \n",
       "1  Are you interested in becoming a programmer? P...  \n",
       "2  Level Up Your Python Skills for Coding Intervi...  \n",
       "3    \\t    Welcome to the Useful Excel for Beginn...  \n",
       "4    \\t        Learn to program in the Java progr...  "
      ]
     },
     "execution_count": 4,
     "metadata": {},
     "output_type": "execute_result"
    }
   ],
   "source": [
    "df_courses = pd.read_csv(\"Data/courses.csv\", index_col=0)\n",
    "df_courses.head()"
   ]
  },
  {
   "cell_type": "code",
   "execution_count": 5,
   "metadata": {},
   "outputs": [
    {
     "name": "stderr",
     "output_type": "stream",
     "text": [
      "2023-09-16 17:00:32.730 \n",
      "  \u001b[33m\u001b[1mWarning:\u001b[0m to view this Streamlit app on a browser, run it with the following\n",
      "  command:\n",
      "\n",
      "    streamlit run C:\\Users\\defaultuser0.LAPTOP-POTNR7PE\\AppData\\Roaming\\Python\\Python311\\site-packages\\ipykernel_launcher.py [ARGUMENTS]\n"
     ]
    }
   ],
   "source": [
    "input_prompt = \"dd\"\n",
    "vectors = joblib.load(\"Assets/courses_embeddings.pkl\")\n",
    "prompt = prompt.RecommenderPrompt(df=df_courses,\n",
    "                               top_k=5,\n",
    "                               vectors=vectors,\n",
    "                               input_prompt=input_prompt)\n",
    "prompt.recCourses()\n",
    "rec_prompt = prompt.rec_rs"
   ]
  },
  {
   "cell_type": "markdown",
   "metadata": {},
   "source": [
    "đầu tiên là lấy input từ user, sau đó sử dụng `SentenceTransformer()` encode input, có embeddings của input đó, đối số vectors là các courses embeddings có được cũng bằng cách sử dụng ```SentenceTransformer()``` rồi encode. \n",
    "\n",
    "sau đó tính toán similarity của input embs và courses embs bằng ```consine_similarity()``` của thư viện sklearn"
   ]
  },
  {
   "cell_type": "code",
   "execution_count": 6,
   "metadata": {},
   "outputs": [
    {
     "name": "stdout",
     "output_type": "stream",
     "text": [
      "8380\n"
     ]
    },
    {
     "data": {
      "text/plain": [
       "[0.04039135202765465,\n",
       " -0.030833296477794647,\n",
       " 0.03665227070450783,\n",
       " -0.01201469823718071,\n",
       " -0.017004139721393585,\n",
       " 0.15853361785411835,\n",
       " 0.10218778252601624,\n",
       " 0.03939070180058479,\n",
       " 0.007665984332561493,\n",
       " 0.07383764535188675]"
      ]
     },
     "execution_count": 6,
     "metadata": {},
     "output_type": "execute_result"
    }
   ],
   "source": [
    "similarity = prompt.userInput().tolist()\n",
    "print(len(similarity[0]))\n",
    "similarity[0][:10]"
   ]
  },
  {
   "cell_type": "markdown",
   "metadata": {},
   "source": [
    "similarity là sự tương tự của user input so với từng courses -> sort similarity in descending order ```reverse = True``` và lấy top k item\n",
    "```enumerate()``` : chuyến similarity sang dạng (index, element)\n",
    "```list()```: chuyển sang list\n",
    "```sorted( , reverse = True, key = )```: sort in descending order (reverse) dựa trên similarity scores\n"
   ]
  },
  {
   "cell_type": "code",
   "execution_count": 7,
   "metadata": {},
   "outputs": [
    {
     "data": {
      "text/plain": [
       "[(1433, 0.42611197), (1463, 0.42611197)]"
      ]
     },
     "execution_count": 7,
     "metadata": {},
     "output_type": "execute_result"
    }
   ],
   "source": [
    "rec_prompt[:2]"
   ]
  },
  {
   "cell_type": "code",
   "execution_count": 8,
   "metadata": {},
   "outputs": [
    {
     "name": "stdout",
     "output_type": "stream",
     "text": [
      "nan nan nan\n",
      "nan nan nan\n",
      "nan nan nan\n",
      "nan nan nan\n",
      "nan nan nan\n",
      "Winning Sales Script System for Sales and Marketing 4.05 Business\n",
      "Hard Disk Forensics: A Learning Guide 4.142857 IT & Software\n",
      "How to DJ with the Pioneer DDJ-SB2 4.85 Music\n",
      "Leadership Training for New Managers: Unleash Your Potential 4.857143 Personal Development\n",
      "Internet and Web Development Fundamentals 4.543103 Development\n"
     ]
    }
   ],
   "source": [
    "for i in rec_prompt[:10]:\n",
    "    try:\n",
    "        rec_title = df_courses.iloc[i[0]][\"item_name\"]\n",
    "        rec_avg_rating = df_courses.iloc[i[0]][\"item_avg_rating\"]\n",
    "        rec_category = df_courses.iloc[i[0]][\"item_category\"]\n",
    "\n",
    "        print(rec_title,rec_avg_rating,rec_category)\n",
    "    except:\n",
    "        continue"
   ]
  }
 ],
 "metadata": {
  "kernelspec": {
   "display_name": "Python 3",
   "language": "python",
   "name": "python3"
  },
  "language_info": {
   "codemirror_mode": {
    "name": "ipython",
    "version": 3
   },
   "file_extension": ".py",
   "mimetype": "text/x-python",
   "name": "python",
   "nbconvert_exporter": "python",
   "pygments_lexer": "ipython3",
   "version": "3.11.2"
  },
  "orig_nbformat": 4
 },
 "nbformat": 4,
 "nbformat_minor": 2
}
