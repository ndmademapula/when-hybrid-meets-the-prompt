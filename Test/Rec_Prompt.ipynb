{
 "cells": [
  {
   "cell_type": "code",
   "execution_count": 1,
   "metadata": {},
   "outputs": [],
   "source": [
    "import pandas as pd\n",
    "import numpy as np\n",
    "import joblib"
   ]
  },
  {
   "cell_type": "code",
   "execution_count": 2,
   "metadata": {},
   "outputs": [
    {
     "data": {
      "text/plain": [
       "'d:\\\\When-Hybrid-meets-the-Prompt'"
      ]
     },
     "execution_count": 2,
     "metadata": {},
     "output_type": "execute_result"
    }
   ],
   "source": [
    "import os\n",
    "parent_directory = os.path.dirname(os.getcwd())\n",
    "os.chdir(parent_directory)\n",
    "os.getcwd()"
   ]
  },
  {
   "cell_type": "code",
   "execution_count": 3,
   "metadata": {},
   "outputs": [],
   "source": [
    "from Model.Prompt import prompt"
   ]
  },
  {
   "cell_type": "code",
   "execution_count": 4,
   "metadata": {},
   "outputs": [
    {
     "data": {
      "text/html": [
       "<div>\n",
       "<style scoped>\n",
       "    .dataframe tbody tr th:only-of-type {\n",
       "        vertical-align: middle;\n",
       "    }\n",
       "\n",
       "    .dataframe tbody tr th {\n",
       "        vertical-align: top;\n",
       "    }\n",
       "\n",
       "    .dataframe thead th {\n",
       "        text-align: right;\n",
       "    }\n",
       "</style>\n",
       "<table border=\"1\" class=\"dataframe\">\n",
       "  <thead>\n",
       "    <tr style=\"text-align: right;\">\n",
       "      <th></th>\n",
       "      <th>index</th>\n",
       "      <th>item_id</th>\n",
       "      <th>item_name</th>\n",
       "      <th>item_avg_rating</th>\n",
       "      <th>item_category</th>\n",
       "      <th>item_subcategory</th>\n",
       "      <th>item_members</th>\n",
       "      <th>item_description</th>\n",
       "    </tr>\n",
       "  </thead>\n",
       "  <tbody>\n",
       "    <tr>\n",
       "      <th>0</th>\n",
       "      <td>0</td>\n",
       "      <td>473160</td>\n",
       "      <td>Web Design for Web Developers: Build Beautiful...</td>\n",
       "      <td>4.466391</td>\n",
       "      <td>Development</td>\n",
       "      <td>Web Development</td>\n",
       "      <td>681494.0</td>\n",
       "      <td>IMPORTANT NOTE: The material of this course is...</td>\n",
       "    </tr>\n",
       "    <tr>\n",
       "      <th>1</th>\n",
       "      <td>1</td>\n",
       "      <td>433798</td>\n",
       "      <td>Introduction To Python Programming</td>\n",
       "      <td>4.408828</td>\n",
       "      <td>Development</td>\n",
       "      <td>Programming Languages</td>\n",
       "      <td>885914.0</td>\n",
       "      <td>Are you interested in becoming a programmer? P...</td>\n",
       "    </tr>\n",
       "    <tr>\n",
       "      <th>2</th>\n",
       "      <td>2</td>\n",
       "      <td>5340996</td>\n",
       "      <td>Python Interview Preparation Coding Exercises</td>\n",
       "      <td>3.596154</td>\n",
       "      <td>Development</td>\n",
       "      <td>Programming Languages</td>\n",
       "      <td>11357.0</td>\n",
       "      <td>Level Up Your Python Skills for Coding Intervi...</td>\n",
       "    </tr>\n",
       "    <tr>\n",
       "      <th>3</th>\n",
       "      <td>3</td>\n",
       "      <td>53600</td>\n",
       "      <td>Useful Excel for Beginners</td>\n",
       "      <td>4.512998</td>\n",
       "      <td>Office Productivity</td>\n",
       "      <td>Microsoft</td>\n",
       "      <td>603913.0</td>\n",
       "      <td>\\t    Welcome to the Useful Excel for Beginn...</td>\n",
       "    </tr>\n",
       "    <tr>\n",
       "      <th>4</th>\n",
       "      <td>4</td>\n",
       "      <td>24823</td>\n",
       "      <td>Java Tutorial for Complete Beginners</td>\n",
       "      <td>4.374596</td>\n",
       "      <td>Development</td>\n",
       "      <td>Programming Languages</td>\n",
       "      <td>1840631.0</td>\n",
       "      <td>\\t        Learn to program in the Java progr...</td>\n",
       "    </tr>\n",
       "  </tbody>\n",
       "</table>\n",
       "</div>"
      ],
      "text/plain": [
       "   index  item_id                                          item_name  \\\n",
       "0      0   473160  Web Design for Web Developers: Build Beautiful...   \n",
       "1      1   433798                 Introduction To Python Programming   \n",
       "2      2  5340996      Python Interview Preparation Coding Exercises   \n",
       "3      3    53600                         Useful Excel for Beginners   \n",
       "4      4    24823               Java Tutorial for Complete Beginners   \n",
       "\n",
       "   item_avg_rating        item_category       item_subcategory  item_members  \\\n",
       "0         4.466391          Development        Web Development      681494.0   \n",
       "1         4.408828          Development  Programming Languages      885914.0   \n",
       "2         3.596154          Development  Programming Languages       11357.0   \n",
       "3         4.512998  Office Productivity              Microsoft      603913.0   \n",
       "4         4.374596          Development  Programming Languages     1840631.0   \n",
       "\n",
       "                                    item_description  \n",
       "0  IMPORTANT NOTE: The material of this course is...  \n",
       "1  Are you interested in becoming a programmer? P...  \n",
       "2  Level Up Your Python Skills for Coding Intervi...  \n",
       "3    \\t    Welcome to the Useful Excel for Beginn...  \n",
       "4    \\t        Learn to program in the Java progr...  "
      ]
     },
     "execution_count": 4,
     "metadata": {},
     "output_type": "execute_result"
    }
   ],
   "source": [
    "df_courses = pd.read_csv(\"Data/courses.csv\", index_col=0).dropna().drop_duplicates()\n",
    "df_courses = df_courses.reset_index()\n",
    "df_courses.head()"
   ]
  },
  {
   "cell_type": "code",
   "execution_count": 5,
   "metadata": {},
   "outputs": [],
   "source": [
    "vectors = joblib.load(\"Assets/courses_embeddings.pkl\")"
   ]
  },
  {
   "cell_type": "code",
   "execution_count": 6,
   "metadata": {},
   "outputs": [],
   "source": [
    "def get_rec():\n",
    "    rss = []\n",
    "    for i in rec_prompt[:10]:\n",
    "        try:\n",
    "            rec_title = df_courses.iloc[i[0]][\"item_name\"]\n",
    "            rec_avg_rating = df_courses.iloc[i[0]][\"item_avg_rating\"]\n",
    "            rec_category = df_courses.iloc[i[0]][\"item_category\"]\n",
    "\n",
    "            rs = {\n",
    "                'name': rec_title,\n",
    "                'rating': rec_avg_rating,\n",
    "                'category': rec_category\n",
    "            }\n",
    "            # print(rs)\n",
    "            rss.append(rs)\n",
    "            print(rec_title,rec_avg_rating,rec_category)\n",
    "        except:\n",
    "            continue\n",
    "    return rss"
   ]
  },
  {
   "cell_type": "markdown",
   "metadata": {},
   "source": [
    "đầu tiên là lấy input từ user, sau đó sử dụng `SentenceTransformer()` encode input, có embeddings của input đó, đối số vectors là các courses embeddings có được cũng bằng cách sử dụng ```SentenceTransformer()``` rồi encode. \n",
    "\n",
    "sau đó tính toán similarity của input embs và courses embs bằng ```consine_similarity()``` của thư viện sklearn"
   ]
  },
  {
   "cell_type": "markdown",
   "metadata": {},
   "source": [
    "similarity là sự tương tự của user input so với từng courses -> sort similarity in descending order ```reverse = True``` và lấy top k item\n",
    "```enumerate()``` : chuyến similarity sang dạng (index, element)\n",
    "```list()```: chuyển sang list\n",
    "```sorted( , reverse = True, key = )```: sort in descending order (reverse) dựa trên similarity scores\n"
   ]
  },
  {
   "cell_type": "code",
   "execution_count": 7,
   "metadata": {},
   "outputs": [
    {
     "name": "stdout",
     "output_type": "stream",
     "text": [
      "Red Hat Enterprise Linux Technical Overview 4.5 IT & Software\n",
      "Fundamental Practices of Content Creation for Marketers 4.4 Marketing\n",
      "Make Photoshop Brushes, Vectors, & Repeating Patterns. 4.8 Design\n",
      "CodePen Editor Clone: Powerful Code Editor Built with React. 4.7777777 Development\n",
      "Modern Data Visualization with Oracle Analytics Cloud 4.3333335 Business\n",
      "Finance Fundamentals Crash Course: Time Value of Money 4.8125 Finance & Accounting\n",
      "Engineering Materials 4.5 Teaching & Academics\n",
      "Quick & Easy to Make Video: YouTube Shorts, Instagram Reels 3.75 Photography & Video\n",
      "IT Management: Communication and Motivation 3.8 Business\n"
     ]
    }
   ],
   "source": [
    "input_prompt_1 = \"Im currently majoring in Digital Business and Artifiical Intelligent, i want to focus in ML algorithms\"\n",
    "prompt_1 = prompt.RecommenderPrompt(df=df_courses,\n",
    "                               top_k=5,\n",
    "                               vectors=vectors,\n",
    "                               input_prompt=input_prompt_1)\n",
    "prompt_1.recCourses()\n",
    "rec_prompt = prompt_1.rec_rs\n",
    "\n",
    "output_1 = get_rec()"
   ]
  },
  {
   "cell_type": "code",
   "execution_count": 8,
   "metadata": {},
   "outputs": [
    {
     "name": "stdout",
     "output_type": "stream",
     "text": [
      "Professional Fully Accredited NLP Certification Diploma 4.75 Personal Development\n",
      "R, ggplot, and Simple Linear Regression 4.6904764 Development\n",
      "Analyse Garment Construction 4.25 Personal Development\n",
      "Productivity Booster 4.1 Personal Development\n",
      "Engineering Calculations using Microsoft Excel 4.05 Office Productivity\n",
      "How to Start a Blog from Scratch 4.05 Marketing\n",
      "Learn Oracle 11g  - A Comprehensive Training Course 4.15 Office Productivity\n",
      "Color Basics for Print Designers 4.3 Design\n",
      "Basic of C++ Programming Language 3.6666667 Development\n",
      "Youtube SEO Course To Rank On First Page : Views & Rank Hack 4.25 Marketing\n"
     ]
    }
   ],
   "source": [
    "input_prompt_2 = \"I want to be a designer\"\n",
    "prompt_2 = prompt.RecommenderPrompt(df=df_courses,\n",
    "                               top_k=5,\n",
    "                               vectors=vectors,\n",
    "                               input_prompt=input_prompt_2)\n",
    "prompt_2.recCourses()\n",
    "rec_prompt = prompt_2.rec_rs\n",
    "\n",
    "output_2 = get_rec()"
   ]
  },
  {
   "cell_type": "code",
   "execution_count": 9,
   "metadata": {},
   "outputs": [
    {
     "name": "stdout",
     "output_type": "stream",
     "text": [
      "Introduction to the New SAP Fit-to-Standard design process 4.8 IT & Software\n",
      "Foundation 5 for Beginners 3.8 Development\n",
      "Fire Fighting System Design Basics 4.55 Design\n",
      "How to Read People's Personality in Minutes using Psychology 4.111111 Teaching & Academics\n",
      "Intelligent Automation (IA) Simplified - cheat sheets 4.7 Development\n",
      "Advanced Adobe Acrobat XI 4.9 Design\n",
      "Analytics For All 4.35 Business\n",
      "From Procrastination To Productivity 4.388889 Personal Development\n",
      "Adobe Illustrator-CC Logo & Graphic Design Crash Course 4.62 Design\n",
      "Mechatronics and Industrial Internet of Things 4.0416665 Teaching & Academics\n"
     ]
    }
   ],
   "source": [
    "input_prompt_3 = \"I'm looking for courses that offer critical thinking skill, I want to improve my skills in leadership\"\n",
    "prompt_3 = prompt.RecommenderPrompt(df=df_courses,\n",
    "                               top_k=5,\n",
    "                               vectors=vectors,\n",
    "                               input_prompt=input_prompt_3)\n",
    "prompt_3.recCourses()\n",
    "rec_prompt = prompt_3.rec_rs\n",
    "\n",
    "output_3 = get_rec()"
   ]
  },
  {
   "cell_type": "code",
   "execution_count": 10,
   "metadata": {},
   "outputs": [],
   "source": [
    "from bert_score import BERTScorer\n",
    "from rouge import Rouge"
   ]
  },
  {
   "cell_type": "code",
   "execution_count": 11,
   "metadata": {},
   "outputs": [
    {
     "data": {
      "text/html": [
       "<div>\n",
       "<style scoped>\n",
       "    .dataframe tbody tr th:only-of-type {\n",
       "        vertical-align: middle;\n",
       "    }\n",
       "\n",
       "    .dataframe tbody tr th {\n",
       "        vertical-align: top;\n",
       "    }\n",
       "\n",
       "    .dataframe thead th {\n",
       "        text-align: right;\n",
       "    }\n",
       "</style>\n",
       "<table border=\"1\" class=\"dataframe\">\n",
       "  <thead>\n",
       "    <tr style=\"text-align: right;\">\n",
       "      <th></th>\n",
       "      <th>Prompt 1</th>\n",
       "      <th>Prompt 2</th>\n",
       "      <th>Prompt 3</th>\n",
       "    </tr>\n",
       "    <tr>\n",
       "      <th>Metric</th>\n",
       "      <th></th>\n",
       "      <th></th>\n",
       "      <th></th>\n",
       "    </tr>\n",
       "  </thead>\n",
       "  <tbody>\n",
       "    <tr>\n",
       "      <th>rouge-1 (F-Score)</th>\n",
       "      <td>0.041237</td>\n",
       "      <td>0.045977</td>\n",
       "      <td>0.061224</td>\n",
       "    </tr>\n",
       "    <tr>\n",
       "      <th>rouge-2 (F-Score)</th>\n",
       "      <td>0.000000</td>\n",
       "      <td>0.000000</td>\n",
       "      <td>0.000000</td>\n",
       "    </tr>\n",
       "    <tr>\n",
       "      <th>rouge-l (F-Score)</th>\n",
       "      <td>0.041237</td>\n",
       "      <td>0.045977</td>\n",
       "      <td>0.061224</td>\n",
       "    </tr>\n",
       "  </tbody>\n",
       "</table>\n",
       "</div>"
      ],
      "text/plain": [
       "                   Prompt 1  Prompt 2  Prompt 3\n",
       "Metric                                         \n",
       "rouge-1 (F-Score)  0.041237  0.045977  0.061224\n",
       "rouge-2 (F-Score)  0.000000  0.000000  0.000000\n",
       "rouge-l (F-Score)  0.041237  0.045977  0.061224"
      ]
     },
     "execution_count": 11,
     "metadata": {},
     "output_type": "execute_result"
    }
   ],
   "source": [
    "def get_rouge_score(input, output):\n",
    "    rouge = Rouge()\n",
    "    return rouge.get_scores(input,output)\n",
    "\n",
    "eval_1_rouge = get_rouge_score(input_prompt_1, str(output_1))\n",
    "eval_2_rouge = get_rouge_score(input_prompt_2, str(output_2))\n",
    "eval_3_rouge = get_rouge_score(input_prompt_3, str(output_3))\n",
    "\n",
    "rouge_scores_out = []\n",
    "\n",
    "for metric in [\"rouge-1\", \"rouge-2\", \"rouge-l\"]:\n",
    "    for label in [\"F-Score\"]:\n",
    "        eval_1_score = eval_1_rouge[0][metric][label[0].lower()]\n",
    "        eval_2_score = eval_2_rouge[0][metric][label[0].lower()]\n",
    "        eval_3_score = eval_3_rouge[0][metric][label[0].lower()]\n",
    "\n",
    "        row = {\n",
    "            \"Metric\": f\"{metric} ({label})\",\n",
    "            \"Prompt 1\": eval_1_score,\n",
    "            \"Prompt 2\": eval_2_score,\n",
    "            \"Prompt 3\": eval_3_score,\n",
    "        }\n",
    "        rouge_scores_out.append(row)\n",
    "\n",
    "rouge_scores_out = (\n",
    "    pd.DataFrame(rouge_scores_out)\n",
    "    .set_index(\"Metric\")\n",
    ")\n",
    "\n",
    "rouge_scores_out"
   ]
  },
  {
   "cell_type": "code",
   "execution_count": 12,
   "metadata": {},
   "outputs": [
    {
     "name": "stderr",
     "output_type": "stream",
     "text": [
      "Some weights of RobertaModel were not initialized from the model checkpoint at roberta-large and are newly initialized: ['roberta.pooler.dense.bias', 'roberta.pooler.dense.weight']\n",
      "You should probably TRAIN this model on a down-stream task to be able to use it for predictions and inference.\n"
     ]
    },
    {
     "name": "stdout",
     "output_type": "stream",
     "text": [
      "Prompt 1 F1 Score: 0.7554874420166016\n",
      "Prompt 2 F1 Score: 0.7673749923706055\n",
      "Prompt 3 F1 Score: 0.7710221409797668\n"
     ]
    }
   ],
   "source": [
    "\n",
    "# Instantiate the BERTScorer object for English language\n",
    "scorer = BERTScorer(lang=\"en\")\n",
    "\n",
    "# Calculate BERTScore for the summary 1 against the excerpt\n",
    "# P1, R1, F1_1 represent Precision, Recall, and F1 Score respectively\n",
    "P1, R1, F1_1 = scorer.score([input_prompt_1], [str(output_1)])\n",
    "\n",
    "# Calculate BERTScore for summary 2 against the excerpt\n",
    "# P2, R2, F2_2 represent Precision, Recall, and F1 Score respectively\n",
    "P2, R2, F2_2 = scorer.score([input_prompt_2], [str(output_2)])\n",
    "P3, R3, F3_3 = scorer.score([input_prompt_3], [str(output_3)])\n",
    "\n",
    "print(\"Prompt 1 F1 Score:\", F1_1.tolist()[0])\n",
    "print(\"Prompt 2 F1 Score:\", F2_2.tolist()[0])\n",
    "print(\"Prompt 3 F1 Score:\", F3_3.tolist()[0])"
   ]
  },
  {
   "cell_type": "code",
   "execution_count": 13,
   "metadata": {},
   "outputs": [
    {
     "name": "stdout",
     "output_type": "stream",
     "text": [
      "Prompt 1 Precious Score: 0.8003475666046143\n",
      "Prompt 2 Precious Score: 0.8318243026733398\n",
      "Prompt 3 Precious Score: 0.8281808495521545\n"
     ]
    }
   ],
   "source": [
    "print(\"Prompt 1 Precious Score:\", P1.tolist()[0])\n",
    "print(\"Prompt 2 Precious Score:\", P2.tolist()[0])\n",
    "print(\"Prompt 3 Precious Score:\", P3.tolist()[0])"
   ]
  },
  {
   "cell_type": "code",
   "execution_count": 14,
   "metadata": {},
   "outputs": [
    {
     "name": "stdout",
     "output_type": "stream",
     "text": [
      "Prompt 1 Recall Score: 0.7153893709182739\n",
      "Prompt 2 Recall Score: 0.7121945023536682\n",
      "Prompt 3 Recall Score: 0.7212438583374023\n"
     ]
    }
   ],
   "source": [
    "print(\"Prompt 1 Recall Score:\", R1.tolist()[0])\n",
    "print(\"Prompt 2 Recall Score:\", R2.tolist()[0])\n",
    "print(\"Prompt 3 Recall Score:\", R3.tolist()[0])"
   ]
  },
  {
   "cell_type": "code",
   "execution_count": 15,
   "metadata": {},
   "outputs": [],
   "source": [
    "# from llama_cpp import Llama\n",
    "# llm = Llama(model_path=\"./models/7B/llama-model.gguf\")\n",
    "# output = llm(\"Q: Name the planets in the solar system? A: \", max_tokens=32, stop=[\"Q:\", \"\\n\"], echo=True)\n",
    "# print(output)"
   ]
  },
  {
   "cell_type": "code",
   "execution_count": 16,
   "metadata": {},
   "outputs": [],
   "source": [
    "# from langchain.llms import LlamaCpp\n",
    "# from langchain.prompts import PromptTemplate\n",
    "# from langchain.chains import LLMChain\n",
    "# from langchain.callbacks.manager import CallbackManager\n",
    "# from langchain.callbacks.streaming_stdout import StreamingStdOutCallbackHandler"
   ]
  },
  {
   "cell_type": "code",
   "execution_count": 17,
   "metadata": {},
   "outputs": [],
   "source": [
    "# # Callbacks support token-wise streaming\n",
    "# callback_manager = CallbackManager([StreamingStdOutCallbackHandler()])"
   ]
  },
  {
   "cell_type": "code",
   "execution_count": 18,
   "metadata": {},
   "outputs": [],
   "source": [
    "# from transformers import AutoTokenizer\n",
    "# import transformers\n",
    "# import torch\n",
    "# import accelerate\n",
    "\n",
    "# model = \"meta-llama/Llama-2-7b-chat-hf\"\n",
    "\n",
    "# tokenizer=AutoTokenizer.from_pretrained(model)\n",
    "# pipeline=transformers.pipeline(\n",
    "#     \"text-generation\",\n",
    "#     model=model,\n",
    "#     tokenizer=tokenizer,\n",
    "#     torch_dtype=torch.bfloat16,\n",
    "#     trust_remote_code=True,\n",
    "#     device_map=\"auto\",\n",
    "#     max_length=1000,\n",
    "#     do_sample=True,\n",
    "#     top_k=10,\n",
    "#     num_return_sequences=1,\n",
    "#     eos_token_id=tokenizer.eos_token_id\n",
    "#     )\n"
   ]
  },
  {
   "cell_type": "code",
   "execution_count": 19,
   "metadata": {},
   "outputs": [],
   "source": [
    "# from langchain.document_loaders import CSVLoader"
   ]
  },
  {
   "cell_type": "code",
   "execution_count": 20,
   "metadata": {},
   "outputs": [],
   "source": [
    "# loader = CSVLoader(\"Data/courses.csv\", encoding=\"utf8\")\n",
    "# data = loader.load()"
   ]
  },
  {
   "cell_type": "code",
   "execution_count": 21,
   "metadata": {},
   "outputs": [],
   "source": [
    "# from langchain.text_splitter import RecursiveCharacterTextSplitter, CharacterTextSplitter\n",
    "\n",
    "# chunk_size = 2000\n",
    "# chunk_overlap = 0\n",
    "\n",
    "# r_splitter = RecursiveCharacterTextSplitter(\n",
    "#     chunk_size=chunk_size,\n",
    "#     chunk_overlap=chunk_overlap\n",
    "# )\n",
    "# c_splitter = CharacterTextSplitter(\n",
    "#     chunk_size=chunk_size,\n",
    "#     chunk_overlap=chunk_overlap\n",
    "# )"
   ]
  },
  {
   "cell_type": "code",
   "execution_count": 22,
   "metadata": {},
   "outputs": [],
   "source": [
    "# docs = c_splitter.split_documents(data)\n",
    "# texts = [item['text'].decode('utf-8') for item in docs]"
   ]
  },
  {
   "cell_type": "code",
   "execution_count": 23,
   "metadata": {},
   "outputs": [],
   "source": [
    "# from langchain.text_splitter import TokenTextSplitter\n",
    "\n",
    "# text_splitter = TokenTextSplitter(chunk_size=1, chunk_overlap=0)\n",
    "\n",
    "# text1 = input_prompt_1\n",
    "# text_splitter.split_text(text1)\n",
    "# # ['foo', ' bar', ' b', 'az', 'zy', 'foo']"
   ]
  }
 ],
 "metadata": {
  "kernelspec": {
   "display_name": "Python 3",
   "language": "python",
   "name": "python3"
  },
  "language_info": {
   "codemirror_mode": {
    "name": "ipython",
    "version": 3
   },
   "file_extension": ".py",
   "mimetype": "text/x-python",
   "name": "python",
   "nbconvert_exporter": "python",
   "pygments_lexer": "ipython3",
   "version": "3.11.2"
  },
  "orig_nbformat": 4
 },
 "nbformat": 4,
 "nbformat_minor": 2
}
