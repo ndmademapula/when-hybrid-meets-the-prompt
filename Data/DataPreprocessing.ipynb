{
 "cells": [
  {
   "cell_type": "code",
   "execution_count": 11,
   "metadata": {},
   "outputs": [],
   "source": [
    "import pandas as pd"
   ]
  },
  {
   "cell_type": "code",
   "execution_count": 12,
   "metadata": {},
   "outputs": [],
   "source": [
    "df_courses = pd.read_csv('../Data/courses.csv', index_col=0)\n",
    "df_ratings = pd.read_csv('../Data/ratings.csv')"
   ]
  },
  {
   "cell_type": "code",
   "execution_count": 13,
   "metadata": {},
   "outputs": [
    {
     "data": {
      "text/html": [
       "<div>\n",
       "<style scoped>\n",
       "    .dataframe tbody tr th:only-of-type {\n",
       "        vertical-align: middle;\n",
       "    }\n",
       "\n",
       "    .dataframe tbody tr th {\n",
       "        vertical-align: top;\n",
       "    }\n",
       "\n",
       "    .dataframe thead th {\n",
       "        text-align: right;\n",
       "    }\n",
       "</style>\n",
       "<table border=\"1\" class=\"dataframe\">\n",
       "  <thead>\n",
       "    <tr style=\"text-align: right;\">\n",
       "      <th></th>\n",
       "      <th>item_id</th>\n",
       "      <th>item_name</th>\n",
       "      <th>item_avg_rating</th>\n",
       "      <th>item_category</th>\n",
       "      <th>item_subcategory</th>\n",
       "      <th>item_members</th>\n",
       "      <th>item_description</th>\n",
       "    </tr>\n",
       "  </thead>\n",
       "  <tbody>\n",
       "    <tr>\n",
       "      <th>0</th>\n",
       "      <td>473160</td>\n",
       "      <td>Web Design for Web Developers: Build Beautiful...</td>\n",
       "      <td>4.466391</td>\n",
       "      <td>Development</td>\n",
       "      <td>Web Development</td>\n",
       "      <td>681494.0</td>\n",
       "      <td>IMPORTANT NOTE: The material of this course is...</td>\n",
       "    </tr>\n",
       "    <tr>\n",
       "      <th>1</th>\n",
       "      <td>433798</td>\n",
       "      <td>Introduction To Python Programming</td>\n",
       "      <td>4.408828</td>\n",
       "      <td>Development</td>\n",
       "      <td>Programming Languages</td>\n",
       "      <td>885914.0</td>\n",
       "      <td>Are you interested in becoming a programmer? P...</td>\n",
       "    </tr>\n",
       "    <tr>\n",
       "      <th>2</th>\n",
       "      <td>5340996</td>\n",
       "      <td>Python Interview Preparation Coding Exercises</td>\n",
       "      <td>3.596154</td>\n",
       "      <td>Development</td>\n",
       "      <td>Programming Languages</td>\n",
       "      <td>11357.0</td>\n",
       "      <td>Level Up Your Python Skills for Coding Intervi...</td>\n",
       "    </tr>\n",
       "    <tr>\n",
       "      <th>3</th>\n",
       "      <td>53600</td>\n",
       "      <td>Useful Excel for Beginners</td>\n",
       "      <td>4.512998</td>\n",
       "      <td>Office Productivity</td>\n",
       "      <td>Microsoft</td>\n",
       "      <td>603913.0</td>\n",
       "      <td>\\t    Welcome to the Useful Excel for Beginn...</td>\n",
       "    </tr>\n",
       "    <tr>\n",
       "      <th>4</th>\n",
       "      <td>24823</td>\n",
       "      <td>Java Tutorial for Complete Beginners</td>\n",
       "      <td>4.374596</td>\n",
       "      <td>Development</td>\n",
       "      <td>Programming Languages</td>\n",
       "      <td>1840631.0</td>\n",
       "      <td>\\t        Learn to program in the Java progr...</td>\n",
       "    </tr>\n",
       "  </tbody>\n",
       "</table>\n",
       "</div>"
      ],
      "text/plain": [
       "   item_id                                          item_name  \\\n",
       "0   473160  Web Design for Web Developers: Build Beautiful...   \n",
       "1   433798                 Introduction To Python Programming   \n",
       "2  5340996      Python Interview Preparation Coding Exercises   \n",
       "3    53600                         Useful Excel for Beginners   \n",
       "4    24823               Java Tutorial for Complete Beginners   \n",
       "\n",
       "   item_avg_rating        item_category       item_subcategory  item_members  \\\n",
       "0         4.466391          Development        Web Development      681494.0   \n",
       "1         4.408828          Development  Programming Languages      885914.0   \n",
       "2         3.596154          Development  Programming Languages       11357.0   \n",
       "3         4.512998  Office Productivity              Microsoft      603913.0   \n",
       "4         4.374596          Development  Programming Languages     1840631.0   \n",
       "\n",
       "                                    item_description  \n",
       "0  IMPORTANT NOTE: The material of this course is...  \n",
       "1  Are you interested in becoming a programmer? P...  \n",
       "2  Level Up Your Python Skills for Coding Intervi...  \n",
       "3    \\t    Welcome to the Useful Excel for Beginn...  \n",
       "4    \\t        Learn to program in the Java progr...  "
      ]
     },
     "execution_count": 13,
     "metadata": {},
     "output_type": "execute_result"
    }
   ],
   "source": [
    "df_courses.head()"
   ]
  },
  {
   "cell_type": "code",
   "execution_count": 14,
   "metadata": {},
   "outputs": [
    {
     "data": {
      "text/html": [
       "<div>\n",
       "<style scoped>\n",
       "    .dataframe tbody tr th:only-of-type {\n",
       "        vertical-align: middle;\n",
       "    }\n",
       "\n",
       "    .dataframe tbody tr th {\n",
       "        vertical-align: top;\n",
       "    }\n",
       "\n",
       "    .dataframe thead th {\n",
       "        text-align: right;\n",
       "    }\n",
       "</style>\n",
       "<table border=\"1\" class=\"dataframe\">\n",
       "  <thead>\n",
       "    <tr style=\"text-align: right;\">\n",
       "      <th></th>\n",
       "      <th>item_id</th>\n",
       "      <th>user_id</th>\n",
       "      <th>user_name</th>\n",
       "      <th>rating</th>\n",
       "      <th>review</th>\n",
       "    </tr>\n",
       "  </thead>\n",
       "  <tbody>\n",
       "    <tr>\n",
       "      <th>0</th>\n",
       "      <td>473160</td>\n",
       "      <td>152417014.0</td>\n",
       "      <td>Aloysius Yong</td>\n",
       "      <td>4.0</td>\n",
       "      <td>NaN</td>\n",
       "    </tr>\n",
       "    <tr>\n",
       "      <th>1</th>\n",
       "      <td>473160</td>\n",
       "      <td>152414066.0</td>\n",
       "      <td>Yash raut</td>\n",
       "      <td>5.0</td>\n",
       "      <td>NaN</td>\n",
       "    </tr>\n",
       "    <tr>\n",
       "      <th>2</th>\n",
       "      <td>473160</td>\n",
       "      <td>152405496.0</td>\n",
       "      <td>sagar Lakshkar</td>\n",
       "      <td>4.5</td>\n",
       "      <td>amzing tutorials and knowledge</td>\n",
       "    </tr>\n",
       "    <tr>\n",
       "      <th>3</th>\n",
       "      <td>473160</td>\n",
       "      <td>152400132.0</td>\n",
       "      <td>John Terence Mantilla</td>\n",
       "      <td>5.0</td>\n",
       "      <td>NaN</td>\n",
       "    </tr>\n",
       "    <tr>\n",
       "      <th>4</th>\n",
       "      <td>473160</td>\n",
       "      <td>152397002.0</td>\n",
       "      <td>Vaishnavi gupta</td>\n",
       "      <td>4.0</td>\n",
       "      <td>NaN</td>\n",
       "    </tr>\n",
       "  </tbody>\n",
       "</table>\n",
       "</div>"
      ],
      "text/plain": [
       "   item_id      user_id              user_name  rating  \\\n",
       "0   473160  152417014.0          Aloysius Yong     4.0   \n",
       "1   473160  152414066.0              Yash raut     5.0   \n",
       "2   473160  152405496.0         sagar Lakshkar     4.5   \n",
       "3   473160  152400132.0  John Terence Mantilla     5.0   \n",
       "4   473160  152397002.0        Vaishnavi gupta     4.0   \n",
       "\n",
       "                           review  \n",
       "0                             NaN  \n",
       "1                             NaN  \n",
       "2  amzing tutorials and knowledge  \n",
       "3                             NaN  \n",
       "4                             NaN  "
      ]
     },
     "execution_count": 14,
     "metadata": {},
     "output_type": "execute_result"
    }
   ],
   "source": [
    "df_ratings.head()"
   ]
  },
  {
   "cell_type": "code",
   "execution_count": 15,
   "metadata": {},
   "outputs": [
    {
     "name": "stdout",
     "output_type": "stream",
     "text": [
      "<class 'pandas.core.frame.DataFrame'>\n",
      "Int64Index: 8380 entries, 0 to 8379\n",
      "Data columns (total 7 columns):\n",
      " #   Column            Non-Null Count  Dtype  \n",
      "---  ------            --------------  -----  \n",
      " 0   item_id           8380 non-null   int64  \n",
      " 1   item_name         8375 non-null   object \n",
      " 2   item_avg_rating   8375 non-null   float64\n",
      " 3   item_category     8375 non-null   object \n",
      " 4   item_subcategory  8375 non-null   object \n",
      " 5   item_members      8375 non-null   float64\n",
      " 6   item_description  8374 non-null   object \n",
      "dtypes: float64(2), int64(1), object(4)\n",
      "memory usage: 523.8+ KB\n",
      "-------------------------------------\n",
      "Duplicated values: 140\n",
      "Null values: \n",
      "item_id             0\n",
      "item_name           5\n",
      "item_avg_rating     5\n",
      "item_category       5\n",
      "item_subcategory    5\n",
      "item_members        5\n",
      "item_description    6\n",
      "dtype: int64\n"
     ]
    }
   ],
   "source": [
    "df_courses.info()\n",
    "print(\"-------------------------------------\")\n",
    "print(f\"Duplicated values: {df_courses.duplicated().sum()}\")\n",
    "print(f\"Null values: \\n{df_courses.isna().sum()}\")"
   ]
  },
  {
   "cell_type": "code",
   "execution_count": 16,
   "metadata": {},
   "outputs": [
    {
     "name": "stdout",
     "output_type": "stream",
     "text": [
      "<class 'pandas.core.frame.DataFrame'>\n",
      "RangeIndex: 4275200 entries, 0 to 4275199\n",
      "Data columns (total 5 columns):\n",
      " #   Column     Dtype  \n",
      "---  ------     -----  \n",
      " 0   item_id    int64  \n",
      " 1   user_id    float64\n",
      " 2   user_name  object \n",
      " 3   rating     float64\n",
      " 4   review     object \n",
      "dtypes: float64(2), int64(1), object(2)\n",
      "memory usage: 163.1+ MB\n",
      "-------------------------------------\n",
      "Duplicated values: 61851\n",
      "Null values: \n",
      "item_id            0\n",
      "user_id           14\n",
      "user_name      68290\n",
      "rating            14\n",
      "review       3541701\n",
      "dtype: int64\n"
     ]
    }
   ],
   "source": [
    "df_ratings.info()\n",
    "print(\"-------------------------------------\")\n",
    "print(f\"Duplicated values: {df_ratings.duplicated().sum()}\")\n",
    "print(f\"Null values: \\n{df_ratings.isna().sum()}\")"
   ]
  },
  {
   "cell_type": "code",
   "execution_count": 17,
   "metadata": {},
   "outputs": [
    {
     "data": {
      "text/plain": [
       "'IMPORTANT NOTE: The material of this course is also covered in my other course about web design and development with HTML5 & CSS3. Scroll to the bottom of this page to check out that course, too! If you\\'re already taking my other course, you already have all it takes to start designing beautiful websites today!\"Best web design course on Udemy: If you\\'re interested in web design, but want more than just a \"how to use WordPress\" course, I highly recommend this one.\" — Florian Giusti\"Very helpful to us left-brained people: I am familiar with HTML, CSS, JQuery, and Twitter Bootstrap, but I needed instruction in web design. This course gave me practical, impactful techniques for making websites more beautiful and engaging.\" — Susan Darlene Cain\"The most educational instructor ever!: Everything is good about this course, you learn a lot, the instructor are excellent and the production is flawless. Love this course, simple as that!\" — LovisaDid you know that beautiful websites convert better than ones that don\\'t stand out at all? This means more sales, more signups, and ultimately more money for you. Do you want to learn how to do exactly that?If you wonder how you can make your next website really good-looking, then you\\'ve come to the right place! In this course, I will show you 25+ guidelines of amazing web design in less than 1 hour. No boring theory, no unnecessary stuff. You will learn dead simple web design rules and guidelines that go straight to the point — you can use them to improve your websites today!In this course, we will use beautiful web design examples together with my 25+ guidelines of amazing web design to learn:• How to make text look professionally designed• How to correctly use the power of colors• How to get and use amazing images, fonts, and icons to make your website shine — all for FREE.• How to create a layout using whitespace and visual hierarchy• How to keep yourself inspired to learn more and more about web design• How to make your websites convert better using 8 simple-to-use techniquesBut there is even more: I provide you with tons of useful web design resources to get you started for your next web design project! These are real-world resources used by real professionals in the web design industry!You can use the rules and guidelines you\\'ll learn in this course for everything you want: design your own WordPress theme, personalize a Bootstrap website, start from scratch with HTML and CSS, or mockup a website in Figma. The 25+ guidelines of amazing web design are universal and ready-to-use for any project.This course is perfect for experienced web developers who want to learn how to make their websites look beautiful and professionally designed. Development Web Development'"
      ]
     },
     "execution_count": 17,
     "metadata": {},
     "output_type": "execute_result"
    }
   ],
   "source": [
    "df_embs = pd.DataFrame()\n",
    "df_embs[\"full_content\"] = df_courses[\"item_description\"] + \" \" + df_courses[\"item_category\"] + \" \" + df_courses[\"item_subcategory\"]\n",
    "df_embs[\"full_content\"][0]"
   ]
  },
  {
   "cell_type": "code",
   "execution_count": 18,
   "metadata": {},
   "outputs": [],
   "source": [
    "# from sentence_transformers import SentenceTransformer\n",
    "\n",
    "# model = SentenceTransformer('all-MiniLM-L6-v2')\n",
    "# courses_embeddings = model.encode(df_embs[\"full_content\"])"
   ]
  },
  {
   "cell_type": "code",
   "execution_count": 19,
   "metadata": {},
   "outputs": [
    {
     "data": {
      "text/plain": [
       "8380"
      ]
     },
     "execution_count": 19,
     "metadata": {},
     "output_type": "execute_result"
    }
   ],
   "source": [
    "# len(courses_embeddings)"
   ]
  },
  {
   "cell_type": "code",
   "execution_count": 20,
   "metadata": {},
   "outputs": [
    {
     "data": {
      "text/plain": [
       "['../Assets/courses_embeddings.pkl']"
      ]
     },
     "execution_count": 20,
     "metadata": {},
     "output_type": "execute_result"
    }
   ],
   "source": [
    "# import joblib\n",
    "# joblib.dump(courses_embeddings,\"../Assets/courses_embeddings.pkl\")"
   ]
  }
 ],
 "metadata": {
  "kernelspec": {
   "display_name": "Python 3",
   "language": "python",
   "name": "python3"
  },
  "language_info": {
   "codemirror_mode": {
    "name": "ipython",
    "version": 3
   },
   "file_extension": ".py",
   "mimetype": "text/x-python",
   "name": "python",
   "nbconvert_exporter": "python",
   "pygments_lexer": "ipython3",
   "version": "3.11.2"
  },
  "orig_nbformat": 4
 },
 "nbformat": 4,
 "nbformat_minor": 2
}
