{
 "cells": [
  {
   "cell_type": "code",
   "execution_count": 3,
   "metadata": {},
   "outputs": [],
   "source": [
    "import pandas as pd\n",
    "import numpy as np\n",
    "from sklearn.feature_extraction.text import TfidfTransformer, TfidfVectorizer\n",
    "from sklearn.metrics.pairwise import cosine_similarity\n",
    "import joblib"
   ]
  },
  {
   "cell_type": "code",
   "execution_count": 4,
   "metadata": {},
   "outputs": [
    {
     "data": {
      "text/plain": [
       "'d:\\\\When-Hybrid-meets-the-Prompt'"
      ]
     },
     "execution_count": 4,
     "metadata": {},
     "output_type": "execute_result"
    }
   ],
   "source": [
    "import os\n",
    "parent_directory = r\"d:\\\\When-Hybrid-meets-the-Prompt\"\n",
    "\n",
    "os.chdir(parent_directory)\n",
    "os.getcwd()"
   ]
  },
  {
   "cell_type": "code",
   "execution_count": 7,
   "metadata": {},
   "outputs": [
    {
     "name": "stdout",
     "output_type": "stream",
     "text": [
      "<class 'pandas.core.frame.DataFrame'>\n",
      "RangeIndex: 8374 entries, 0 to 8373\n",
      "Data columns (total 7 columns):\n",
      " #   Column            Non-Null Count  Dtype  \n",
      "---  ------            --------------  -----  \n",
      " 0   item_id           8374 non-null   int64  \n",
      " 1   item_name         8374 non-null   object \n",
      " 2   item_avg_rating   8374 non-null   float64\n",
      " 3   item_category     8374 non-null   object \n",
      " 4   item_subcategory  8374 non-null   object \n",
      " 5   item_members      8374 non-null   float64\n",
      " 6   item_description  8374 non-null   object \n",
      "dtypes: float64(2), int64(1), object(4)\n",
      "memory usage: 458.1+ KB\n"
     ]
    },
    {
     "data": {
      "text/html": [
       "<div>\n",
       "<style scoped>\n",
       "    .dataframe tbody tr th:only-of-type {\n",
       "        vertical-align: middle;\n",
       "    }\n",
       "\n",
       "    .dataframe tbody tr th {\n",
       "        vertical-align: top;\n",
       "    }\n",
       "\n",
       "    .dataframe thead th {\n",
       "        text-align: right;\n",
       "    }\n",
       "</style>\n",
       "<table border=\"1\" class=\"dataframe\">\n",
       "  <thead>\n",
       "    <tr style=\"text-align: right;\">\n",
       "      <th></th>\n",
       "      <th>item_id</th>\n",
       "      <th>item_name</th>\n",
       "      <th>item_avg_rating</th>\n",
       "      <th>item_category</th>\n",
       "      <th>item_subcategory</th>\n",
       "      <th>item_members</th>\n",
       "      <th>item_description</th>\n",
       "    </tr>\n",
       "  </thead>\n",
       "  <tbody>\n",
       "    <tr>\n",
       "      <th>0</th>\n",
       "      <td>473160</td>\n",
       "      <td>Web Design for Web Developers: Build Beautiful...</td>\n",
       "      <td>4.466391</td>\n",
       "      <td>Development</td>\n",
       "      <td>Web Development</td>\n",
       "      <td>681494.0</td>\n",
       "      <td>IMPORTANT NOTE: The material of this course is...</td>\n",
       "    </tr>\n",
       "    <tr>\n",
       "      <th>1</th>\n",
       "      <td>433798</td>\n",
       "      <td>Introduction To Python Programming</td>\n",
       "      <td>4.408828</td>\n",
       "      <td>Development</td>\n",
       "      <td>Programming Languages</td>\n",
       "      <td>885914.0</td>\n",
       "      <td>Are you interested in becoming a programmer? P...</td>\n",
       "    </tr>\n",
       "    <tr>\n",
       "      <th>2</th>\n",
       "      <td>5340996</td>\n",
       "      <td>Python Interview Preparation Coding Exercises</td>\n",
       "      <td>3.596154</td>\n",
       "      <td>Development</td>\n",
       "      <td>Programming Languages</td>\n",
       "      <td>11357.0</td>\n",
       "      <td>Level Up Your Python Skills for Coding Intervi...</td>\n",
       "    </tr>\n",
       "    <tr>\n",
       "      <th>3</th>\n",
       "      <td>53600</td>\n",
       "      <td>Useful Excel for Beginners</td>\n",
       "      <td>4.512998</td>\n",
       "      <td>Office Productivity</td>\n",
       "      <td>Microsoft</td>\n",
       "      <td>603913.0</td>\n",
       "      <td>\\t    Welcome to the Useful Excel for Beginn...</td>\n",
       "    </tr>\n",
       "    <tr>\n",
       "      <th>4</th>\n",
       "      <td>24823</td>\n",
       "      <td>Java Tutorial for Complete Beginners</td>\n",
       "      <td>4.374596</td>\n",
       "      <td>Development</td>\n",
       "      <td>Programming Languages</td>\n",
       "      <td>1840631.0</td>\n",
       "      <td>\\t        Learn to program in the Java progr...</td>\n",
       "    </tr>\n",
       "  </tbody>\n",
       "</table>\n",
       "</div>"
      ],
      "text/plain": [
       "   item_id                                          item_name  \\\n",
       "0   473160  Web Design for Web Developers: Build Beautiful...   \n",
       "1   433798                 Introduction To Python Programming   \n",
       "2  5340996      Python Interview Preparation Coding Exercises   \n",
       "3    53600                         Useful Excel for Beginners   \n",
       "4    24823               Java Tutorial for Complete Beginners   \n",
       "\n",
       "   item_avg_rating        item_category       item_subcategory  item_members  \\\n",
       "0         4.466391          Development        Web Development      681494.0   \n",
       "1         4.408828          Development  Programming Languages      885914.0   \n",
       "2         3.596154          Development  Programming Languages       11357.0   \n",
       "3         4.512998  Office Productivity              Microsoft      603913.0   \n",
       "4         4.374596          Development  Programming Languages     1840631.0   \n",
       "\n",
       "                                    item_description  \n",
       "0  IMPORTANT NOTE: The material of this course is...  \n",
       "1  Are you interested in becoming a programmer? P...  \n",
       "2  Level Up Your Python Skills for Coding Intervi...  \n",
       "3    \\t    Welcome to the Useful Excel for Beginn...  \n",
       "4    \\t        Learn to program in the Java progr...  "
      ]
     },
     "execution_count": 7,
     "metadata": {},
     "output_type": "execute_result"
    }
   ],
   "source": [
    "df_courses = pd.read_csv(\"Data/courses.csv\", nrows=10000, index_col=0).dropna()\n",
    "df_courses = df_courses.reset_index(drop=True)\n",
    "df_courses.info()\n",
    "df_courses.head()"
   ]
  },
  {
   "cell_type": "code",
   "execution_count": null,
   "metadata": {},
   "outputs": [],
   "source": []
  }
 ],
 "metadata": {
  "kernelspec": {
   "display_name": "Python 3",
   "language": "python",
   "name": "python3"
  },
  "language_info": {
   "codemirror_mode": {
    "name": "ipython",
    "version": 3
   },
   "file_extension": ".py",
   "mimetype": "text/x-python",
   "name": "python",
   "nbconvert_exporter": "python",
   "pygments_lexer": "ipython3",
   "version": "3.11.2"
  }
 },
 "nbformat": 4,
 "nbformat_minor": 2
}
