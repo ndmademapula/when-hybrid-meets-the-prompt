{
 "cells": [
  {
   "cell_type": "code",
   "execution_count": 1,
   "metadata": {},
   "outputs": [
    {
     "name": "stderr",
     "output_type": "stream",
     "text": [
      "c:\\Users\\defaultuser0.LAPTOP-POTNR7PE\\AppData\\Local\\Programs\\Python\\Python311\\Lib\\site-packages\\torchaudio\\backend\\utils.py:74: UserWarning: No audio backend is available.\n",
      "  warnings.warn(\"No audio backend is available.\")\n"
     ]
    }
   ],
   "source": [
    "import pandas as pd\n",
    "import joblib\n",
    "from sklearn import preprocessing\n",
    "\n",
    "from collie.cross_validation import stratified_split,random_split\n",
    "from collie.interactions import Interactions\n",
    "from collie.utils import convert_to_implicit, remove_users_with_fewer_than_n_interactions"
   ]
  },
  {
   "cell_type": "code",
   "execution_count": 2,
   "metadata": {},
   "outputs": [
    {
     "data": {
      "text/plain": [
       "'d:\\\\When-Hybrid-meets-the-Prompt'"
      ]
     },
     "execution_count": 2,
     "metadata": {},
     "output_type": "execute_result"
    }
   ],
   "source": [
    "import os\n",
    "parent_directory = r\"d:\\\\When-Hybrid-meets-the-Prompt\"\n",
    "\n",
    "os.chdir(parent_directory)\n",
    "os.getcwd()"
   ]
  },
  {
   "cell_type": "code",
   "execution_count": 3,
   "metadata": {},
   "outputs": [
    {
     "name": "stdout",
     "output_type": "stream",
     "text": [
      "<class 'pandas.core.frame.DataFrame'>\n",
      "RangeIndex: 10000 entries, 0 to 9999\n",
      "Data columns (total 3 columns):\n",
      " #   Column   Non-Null Count  Dtype\n",
      "---  ------   --------------  -----\n",
      " 0   item_id  10000 non-null  int32\n",
      " 1   user_id  10000 non-null  int32\n",
      " 2   rating   10000 non-null  int32\n",
      "dtypes: int32(3)\n",
      "memory usage: 117.3 KB\n"
     ]
    },
    {
     "data": {
      "text/html": [
       "<div>\n",
       "<style scoped>\n",
       "    .dataframe tbody tr th:only-of-type {\n",
       "        vertical-align: middle;\n",
       "    }\n",
       "\n",
       "    .dataframe tbody tr th {\n",
       "        vertical-align: top;\n",
       "    }\n",
       "\n",
       "    .dataframe thead th {\n",
       "        text-align: right;\n",
       "    }\n",
       "</style>\n",
       "<table border=\"1\" class=\"dataframe\">\n",
       "  <thead>\n",
       "    <tr style=\"text-align: right;\">\n",
       "      <th></th>\n",
       "      <th>item_id</th>\n",
       "      <th>user_id</th>\n",
       "      <th>rating</th>\n",
       "    </tr>\n",
       "  </thead>\n",
       "  <tbody>\n",
       "    <tr>\n",
       "      <th>0</th>\n",
       "      <td>473160</td>\n",
       "      <td>152417014</td>\n",
       "      <td>4</td>\n",
       "    </tr>\n",
       "    <tr>\n",
       "      <th>1</th>\n",
       "      <td>473160</td>\n",
       "      <td>152414066</td>\n",
       "      <td>5</td>\n",
       "    </tr>\n",
       "    <tr>\n",
       "      <th>2</th>\n",
       "      <td>473160</td>\n",
       "      <td>152405496</td>\n",
       "      <td>4</td>\n",
       "    </tr>\n",
       "    <tr>\n",
       "      <th>3</th>\n",
       "      <td>473160</td>\n",
       "      <td>152400132</td>\n",
       "      <td>5</td>\n",
       "    </tr>\n",
       "    <tr>\n",
       "      <th>4</th>\n",
       "      <td>473160</td>\n",
       "      <td>152397002</td>\n",
       "      <td>4</td>\n",
       "    </tr>\n",
       "  </tbody>\n",
       "</table>\n",
       "</div>"
      ],
      "text/plain": [
       "   item_id    user_id  rating\n",
       "0   473160  152417014       4\n",
       "1   473160  152414066       5\n",
       "2   473160  152405496       4\n",
       "3   473160  152400132       5\n",
       "4   473160  152397002       4"
      ]
     },
     "execution_count": 3,
     "metadata": {},
     "output_type": "execute_result"
    }
   ],
   "source": [
    "df_ratings = pd.read_csv(\"Data/ratings.csv\", usecols=[\"item_id\",\"user_id\",\"rating\"], nrows=10000).dropna().astype(int)\n",
    "df_ratings = df_ratings.reset_index(drop=True)\n",
    "df_ratings.info()\n",
    "df_ratings.head()"
   ]
  },
  {
   "cell_type": "code",
   "execution_count": 4,
   "metadata": {},
   "outputs": [
    {
     "name": "stdout",
     "output_type": "stream",
     "text": [
      "<class 'pandas.core.frame.DataFrame'>\n",
      "RangeIndex: 9872 entries, 0 to 9871\n",
      "Data columns (total 3 columns):\n",
      " #   Column   Non-Null Count  Dtype\n",
      "---  ------   --------------  -----\n",
      " 0   item_id  9872 non-null   int32\n",
      " 1   user_id  9872 non-null   int32\n",
      " 2   rating   9872 non-null   int64\n",
      "dtypes: int32(2), int64(1)\n",
      "memory usage: 154.4 KB\n"
     ]
    },
    {
     "data": {
      "text/html": [
       "<div>\n",
       "<style scoped>\n",
       "    .dataframe tbody tr th:only-of-type {\n",
       "        vertical-align: middle;\n",
       "    }\n",
       "\n",
       "    .dataframe tbody tr th {\n",
       "        vertical-align: top;\n",
       "    }\n",
       "\n",
       "    .dataframe thead th {\n",
       "        text-align: right;\n",
       "    }\n",
       "</style>\n",
       "<table border=\"1\" class=\"dataframe\">\n",
       "  <thead>\n",
       "    <tr style=\"text-align: right;\">\n",
       "      <th></th>\n",
       "      <th>item_id</th>\n",
       "      <th>user_id</th>\n",
       "      <th>rating</th>\n",
       "    </tr>\n",
       "  </thead>\n",
       "  <tbody>\n",
       "    <tr>\n",
       "      <th>0</th>\n",
       "      <td>473160</td>\n",
       "      <td>113517720</td>\n",
       "      <td>1</td>\n",
       "    </tr>\n",
       "    <tr>\n",
       "      <th>1</th>\n",
       "      <td>473160</td>\n",
       "      <td>119333016</td>\n",
       "      <td>1</td>\n",
       "    </tr>\n",
       "    <tr>\n",
       "      <th>2</th>\n",
       "      <td>473160</td>\n",
       "      <td>121424348</td>\n",
       "      <td>1</td>\n",
       "    </tr>\n",
       "    <tr>\n",
       "      <th>3</th>\n",
       "      <td>473160</td>\n",
       "      <td>113518034</td>\n",
       "      <td>1</td>\n",
       "    </tr>\n",
       "    <tr>\n",
       "      <th>4</th>\n",
       "      <td>473160</td>\n",
       "      <td>138236258</td>\n",
       "      <td>1</td>\n",
       "    </tr>\n",
       "  </tbody>\n",
       "</table>\n",
       "</div>"
      ],
      "text/plain": [
       "   item_id    user_id  rating\n",
       "0   473160  113517720       1\n",
       "1   473160  119333016       1\n",
       "2   473160  121424348       1\n",
       "3   473160  113518034       1\n",
       "4   473160  138236258       1"
      ]
     },
     "execution_count": 4,
     "metadata": {},
     "output_type": "execute_result"
    }
   ],
   "source": [
    "# convert to implicit data\n",
    "df_implicit_ratings = convert_to_implicit(df_ratings, min_rating_to_keep=2)\n",
    "df_implicit_ratings = remove_users_with_fewer_than_n_interactions(df_implicit_ratings, min_num_of_interactions=1)\n",
    "df_implicit_ratings.info()\n",
    "df_implicit_ratings.head()"
   ]
  },
  {
   "cell_type": "code",
   "execution_count": 5,
   "metadata": {},
   "outputs": [
    {
     "name": "stdout",
     "output_type": "stream",
     "text": [
      "Checking for and removing duplicate user, item ID pairs...\n",
      "Checking ``num_negative_samples`` is valid...\n",
      "Maximum number of items a user has interacted with: 1\n",
      "Generating positive items set...\n"
     ]
    },
    {
     "data": {
      "text/plain": [
       "Interactions object with 9872 interactions between 152417015 users and 473161 items, returning 10 negative samples per interaction."
      ]
     },
     "execution_count": 5,
     "metadata": {},
     "output_type": "execute_result"
    }
   ],
   "source": [
    "user_item_interaction = Interactions(\n",
    "    users=df_implicit_ratings[\"user_id\"],\n",
    "    items=df_implicit_ratings[\"item_id\"],\n",
    "    ratings=df_implicit_ratings[\"rating\"],\n",
    "    allow_missing_ids=True\n",
    ")\n",
    "user_item_interaction"
   ]
  },
  {
   "cell_type": "code",
   "execution_count": 6,
   "metadata": {},
   "outputs": [
    {
     "name": "stdout",
     "output_type": "stream",
     "text": [
      "Generating positive items set...\n",
      "Generating positive items set...\n",
      "Generating positive items set...\n"
     ]
    },
    {
     "data": {
      "text/plain": [
       "(Interactions object with 7897 interactions between 152417015 users and 473161 items, returning 10 negative samples per interaction.,\n",
       " Interactions object with 1975 interactions between 152417015 users and 473161 items, returning 10 negative samples per interaction.)"
      ]
     },
     "execution_count": 6,
     "metadata": {},
     "output_type": "execute_result"
    }
   ],
   "source": [
    "train_interactions, val_interactions = random_split(user_item_interaction, test_p=0.2, seed=42)\n",
    "train_interactions, val_interactions"
   ]
  },
  {
   "cell_type": "code",
   "execution_count": 7,
   "metadata": {},
   "outputs": [
    {
     "data": {
      "text/plain": [
       "['Data/val_interactions_10K.pkl']"
      ]
     },
     "execution_count": 7,
     "metadata": {},
     "output_type": "execute_result"
    }
   ],
   "source": [
    "# joblib.dump(train_interactions, 'Data/train_interactions.pkl')\n",
    "# joblib.dump(val_interactions, 'Data/val_interactions.pkl')\n",
    "# joblib.dump(train_interactions, 'Data/train_interactions_1M.pkl')\n",
    "# joblib.dump(val_interactions, 'Data/val_interactions_1M.pkl')\n",
    "joblib.dump(train_interactions, 'Data/train_interactions_10K.pkl')\n",
    "joblib.dump(val_interactions, 'Data/val_interactions_10K.pkl')\n"
   ]
  }
 ],
 "metadata": {
  "kernelspec": {
   "display_name": "Python 3",
   "language": "python",
   "name": "python3"
  },
  "language_info": {
   "codemirror_mode": {
    "name": "ipython",
    "version": 3
   },
   "file_extension": ".py",
   "mimetype": "text/x-python",
   "name": "python",
   "nbconvert_exporter": "python",
   "pygments_lexer": "ipython3",
   "version": "3.11.2"
  }
 },
 "nbformat": 4,
 "nbformat_minor": 2
}
